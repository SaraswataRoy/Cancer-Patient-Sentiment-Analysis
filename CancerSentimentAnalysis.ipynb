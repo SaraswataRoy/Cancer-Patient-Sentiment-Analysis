{
  "cells": [
    {
      "cell_type": "markdown",
      "metadata": {
        "id": "view-in-github",
        "colab_type": "text"
      },
      "source": [
        "<a href=\"https://colab.research.google.com/github/SaraswataRoy/Cancer-Patient-Sentiment-Analysis/blob/main/CancerSentimentAnalysis.ipynb\" target=\"_parent\"><img src=\"https://colab.research.google.com/assets/colab-badge.svg\" alt=\"Open In Colab\"/></a>"
      ]
    },
    {
      "cell_type": "code",
      "execution_count": 54,
      "id": "ecceebd9-de1a-4e44-94c3-d667c1a4024a",
      "metadata": {
        "tags": [],
        "id": "ecceebd9-de1a-4e44-94c3-d667c1a4024a"
      },
      "outputs": [],
      "source": [
        "import os\n",
        "import numpy as np\n",
        "import pandas as pd\n",
        "import matplotlib.pyplot as plt\n",
        "import seaborn as sns\n",
        "%matplotlib inline\n",
        "sns.set()\n",
        "import warnings\n",
        "warnings.filterwarnings('ignore')\n",
        "import plotly.express as px\n",
        "import plotly.graph_objects as go"
      ]
    },
    {
      "cell_type": "code",
      "execution_count": 55,
      "id": "79e52dbe-e459-4a2c-8702-53b3dd5447c1",
      "metadata": {
        "tags": [],
        "colab": {
          "base_uri": "https://localhost:8080/",
          "height": 206
        },
        "id": "79e52dbe-e459-4a2c-8702-53b3dd5447c1",
        "outputId": "69ea65f8-ae38-40ae-e816-af171decd401"
      },
      "outputs": [
        {
          "output_type": "execute_result",
          "data": {
            "text/plain": [
              "                                               posts predicted  intensity\n",
              "0  I know as parent of child with down syndrome t...  negative         -1\n",
              "1  but in my heart I know this is the future prom...   neutral          0\n",
              "2  I have mylefibrosis which turn to leukemia the...  negative         -1\n",
              "3  from one of my health group subject wayne dyer...   neutral          0\n",
              "4  gmos now link to leukemia http nsnbc I 2013 07...   neutral          0"
            ],
            "text/html": [
              "\n",
              "  <div id=\"df-41edead5-5cf6-450e-ba59-f58acd859752\" class=\"colab-df-container\">\n",
              "    <div>\n",
              "<style scoped>\n",
              "    .dataframe tbody tr th:only-of-type {\n",
              "        vertical-align: middle;\n",
              "    }\n",
              "\n",
              "    .dataframe tbody tr th {\n",
              "        vertical-align: top;\n",
              "    }\n",
              "\n",
              "    .dataframe thead th {\n",
              "        text-align: right;\n",
              "    }\n",
              "</style>\n",
              "<table border=\"1\" class=\"dataframe\">\n",
              "  <thead>\n",
              "    <tr style=\"text-align: right;\">\n",
              "      <th></th>\n",
              "      <th>posts</th>\n",
              "      <th>predicted</th>\n",
              "      <th>intensity</th>\n",
              "    </tr>\n",
              "  </thead>\n",
              "  <tbody>\n",
              "    <tr>\n",
              "      <th>0</th>\n",
              "      <td>I know as parent of child with down syndrome t...</td>\n",
              "      <td>negative</td>\n",
              "      <td>-1</td>\n",
              "    </tr>\n",
              "    <tr>\n",
              "      <th>1</th>\n",
              "      <td>but in my heart I know this is the future prom...</td>\n",
              "      <td>neutral</td>\n",
              "      <td>0</td>\n",
              "    </tr>\n",
              "    <tr>\n",
              "      <th>2</th>\n",
              "      <td>I have mylefibrosis which turn to leukemia the...</td>\n",
              "      <td>negative</td>\n",
              "      <td>-1</td>\n",
              "    </tr>\n",
              "    <tr>\n",
              "      <th>3</th>\n",
              "      <td>from one of my health group subject wayne dyer...</td>\n",
              "      <td>neutral</td>\n",
              "      <td>0</td>\n",
              "    </tr>\n",
              "    <tr>\n",
              "      <th>4</th>\n",
              "      <td>gmos now link to leukemia http nsnbc I 2013 07...</td>\n",
              "      <td>neutral</td>\n",
              "      <td>0</td>\n",
              "    </tr>\n",
              "  </tbody>\n",
              "</table>\n",
              "</div>\n",
              "    <div class=\"colab-df-buttons\">\n",
              "\n",
              "  <div class=\"colab-df-container\">\n",
              "    <button class=\"colab-df-convert\" onclick=\"convertToInteractive('df-41edead5-5cf6-450e-ba59-f58acd859752')\"\n",
              "            title=\"Convert this dataframe to an interactive table.\"\n",
              "            style=\"display:none;\">\n",
              "\n",
              "  <svg xmlns=\"http://www.w3.org/2000/svg\" height=\"24px\" viewBox=\"0 -960 960 960\">\n",
              "    <path d=\"M120-120v-720h720v720H120Zm60-500h600v-160H180v160Zm220 220h160v-160H400v160Zm0 220h160v-160H400v160ZM180-400h160v-160H180v160Zm440 0h160v-160H620v160ZM180-180h160v-160H180v160Zm440 0h160v-160H620v160Z\"/>\n",
              "  </svg>\n",
              "    </button>\n",
              "\n",
              "  <style>\n",
              "    .colab-df-container {\n",
              "      display:flex;\n",
              "      gap: 12px;\n",
              "    }\n",
              "\n",
              "    .colab-df-convert {\n",
              "      background-color: #E8F0FE;\n",
              "      border: none;\n",
              "      border-radius: 50%;\n",
              "      cursor: pointer;\n",
              "      display: none;\n",
              "      fill: #1967D2;\n",
              "      height: 32px;\n",
              "      padding: 0 0 0 0;\n",
              "      width: 32px;\n",
              "    }\n",
              "\n",
              "    .colab-df-convert:hover {\n",
              "      background-color: #E2EBFA;\n",
              "      box-shadow: 0px 1px 2px rgba(60, 64, 67, 0.3), 0px 1px 3px 1px rgba(60, 64, 67, 0.15);\n",
              "      fill: #174EA6;\n",
              "    }\n",
              "\n",
              "    .colab-df-buttons div {\n",
              "      margin-bottom: 4px;\n",
              "    }\n",
              "\n",
              "    [theme=dark] .colab-df-convert {\n",
              "      background-color: #3B4455;\n",
              "      fill: #D2E3FC;\n",
              "    }\n",
              "\n",
              "    [theme=dark] .colab-df-convert:hover {\n",
              "      background-color: #434B5C;\n",
              "      box-shadow: 0px 1px 3px 1px rgba(0, 0, 0, 0.15);\n",
              "      filter: drop-shadow(0px 1px 2px rgba(0, 0, 0, 0.3));\n",
              "      fill: #FFFFFF;\n",
              "    }\n",
              "  </style>\n",
              "\n",
              "    <script>\n",
              "      const buttonEl =\n",
              "        document.querySelector('#df-41edead5-5cf6-450e-ba59-f58acd859752 button.colab-df-convert');\n",
              "      buttonEl.style.display =\n",
              "        google.colab.kernel.accessAllowed ? 'block' : 'none';\n",
              "\n",
              "      async function convertToInteractive(key) {\n",
              "        const element = document.querySelector('#df-41edead5-5cf6-450e-ba59-f58acd859752');\n",
              "        const dataTable =\n",
              "          await google.colab.kernel.invokeFunction('convertToInteractive',\n",
              "                                                    [key], {});\n",
              "        if (!dataTable) return;\n",
              "\n",
              "        const docLinkHtml = 'Like what you see? Visit the ' +\n",
              "          '<a target=\"_blank\" href=https://colab.research.google.com/notebooks/data_table.ipynb>data table notebook</a>'\n",
              "          + ' to learn more about interactive tables.';\n",
              "        element.innerHTML = '';\n",
              "        dataTable['output_type'] = 'display_data';\n",
              "        await google.colab.output.renderOutput(dataTable, element);\n",
              "        const docLink = document.createElement('div');\n",
              "        docLink.innerHTML = docLinkHtml;\n",
              "        element.appendChild(docLink);\n",
              "      }\n",
              "    </script>\n",
              "  </div>\n",
              "\n",
              "\n",
              "<div id=\"df-781431a9-cf2e-49d1-b938-a45b608a2d61\">\n",
              "  <button class=\"colab-df-quickchart\" onclick=\"quickchart('df-781431a9-cf2e-49d1-b938-a45b608a2d61')\"\n",
              "            title=\"Suggest charts\"\n",
              "            style=\"display:none;\">\n",
              "\n",
              "<svg xmlns=\"http://www.w3.org/2000/svg\" height=\"24px\"viewBox=\"0 0 24 24\"\n",
              "     width=\"24px\">\n",
              "    <g>\n",
              "        <path d=\"M19 3H5c-1.1 0-2 .9-2 2v14c0 1.1.9 2 2 2h14c1.1 0 2-.9 2-2V5c0-1.1-.9-2-2-2zM9 17H7v-7h2v7zm4 0h-2V7h2v10zm4 0h-2v-4h2v4z\"/>\n",
              "    </g>\n",
              "</svg>\n",
              "  </button>\n",
              "\n",
              "<style>\n",
              "  .colab-df-quickchart {\n",
              "      --bg-color: #E8F0FE;\n",
              "      --fill-color: #1967D2;\n",
              "      --hover-bg-color: #E2EBFA;\n",
              "      --hover-fill-color: #174EA6;\n",
              "      --disabled-fill-color: #AAA;\n",
              "      --disabled-bg-color: #DDD;\n",
              "  }\n",
              "\n",
              "  [theme=dark] .colab-df-quickchart {\n",
              "      --bg-color: #3B4455;\n",
              "      --fill-color: #D2E3FC;\n",
              "      --hover-bg-color: #434B5C;\n",
              "      --hover-fill-color: #FFFFFF;\n",
              "      --disabled-bg-color: #3B4455;\n",
              "      --disabled-fill-color: #666;\n",
              "  }\n",
              "\n",
              "  .colab-df-quickchart {\n",
              "    background-color: var(--bg-color);\n",
              "    border: none;\n",
              "    border-radius: 50%;\n",
              "    cursor: pointer;\n",
              "    display: none;\n",
              "    fill: var(--fill-color);\n",
              "    height: 32px;\n",
              "    padding: 0;\n",
              "    width: 32px;\n",
              "  }\n",
              "\n",
              "  .colab-df-quickchart:hover {\n",
              "    background-color: var(--hover-bg-color);\n",
              "    box-shadow: 0 1px 2px rgba(60, 64, 67, 0.3), 0 1px 3px 1px rgba(60, 64, 67, 0.15);\n",
              "    fill: var(--button-hover-fill-color);\n",
              "  }\n",
              "\n",
              "  .colab-df-quickchart-complete:disabled,\n",
              "  .colab-df-quickchart-complete:disabled:hover {\n",
              "    background-color: var(--disabled-bg-color);\n",
              "    fill: var(--disabled-fill-color);\n",
              "    box-shadow: none;\n",
              "  }\n",
              "\n",
              "  .colab-df-spinner {\n",
              "    border: 2px solid var(--fill-color);\n",
              "    border-color: transparent;\n",
              "    border-bottom-color: var(--fill-color);\n",
              "    animation:\n",
              "      spin 1s steps(1) infinite;\n",
              "  }\n",
              "\n",
              "  @keyframes spin {\n",
              "    0% {\n",
              "      border-color: transparent;\n",
              "      border-bottom-color: var(--fill-color);\n",
              "      border-left-color: var(--fill-color);\n",
              "    }\n",
              "    20% {\n",
              "      border-color: transparent;\n",
              "      border-left-color: var(--fill-color);\n",
              "      border-top-color: var(--fill-color);\n",
              "    }\n",
              "    30% {\n",
              "      border-color: transparent;\n",
              "      border-left-color: var(--fill-color);\n",
              "      border-top-color: var(--fill-color);\n",
              "      border-right-color: var(--fill-color);\n",
              "    }\n",
              "    40% {\n",
              "      border-color: transparent;\n",
              "      border-right-color: var(--fill-color);\n",
              "      border-top-color: var(--fill-color);\n",
              "    }\n",
              "    60% {\n",
              "      border-color: transparent;\n",
              "      border-right-color: var(--fill-color);\n",
              "    }\n",
              "    80% {\n",
              "      border-color: transparent;\n",
              "      border-right-color: var(--fill-color);\n",
              "      border-bottom-color: var(--fill-color);\n",
              "    }\n",
              "    90% {\n",
              "      border-color: transparent;\n",
              "      border-bottom-color: var(--fill-color);\n",
              "    }\n",
              "  }\n",
              "</style>\n",
              "\n",
              "  <script>\n",
              "    async function quickchart(key) {\n",
              "      const quickchartButtonEl =\n",
              "        document.querySelector('#' + key + ' button');\n",
              "      quickchartButtonEl.disabled = true;  // To prevent multiple clicks.\n",
              "      quickchartButtonEl.classList.add('colab-df-spinner');\n",
              "      try {\n",
              "        const charts = await google.colab.kernel.invokeFunction(\n",
              "            'suggestCharts', [key], {});\n",
              "      } catch (error) {\n",
              "        console.error('Error during call to suggestCharts:', error);\n",
              "      }\n",
              "      quickchartButtonEl.classList.remove('colab-df-spinner');\n",
              "      quickchartButtonEl.classList.add('colab-df-quickchart-complete');\n",
              "    }\n",
              "    (() => {\n",
              "      let quickchartButtonEl =\n",
              "        document.querySelector('#df-781431a9-cf2e-49d1-b938-a45b608a2d61 button');\n",
              "      quickchartButtonEl.style.display =\n",
              "        google.colab.kernel.accessAllowed ? 'block' : 'none';\n",
              "    })();\n",
              "  </script>\n",
              "</div>\n",
              "\n",
              "    </div>\n",
              "  </div>\n"
            ],
            "application/vnd.google.colaboratory.intrinsic+json": {
              "type": "dataframe",
              "variable_name": "df",
              "summary": "{\n  \"name\": \"df\",\n  \"rows\": 10392,\n  \"fields\": [\n    {\n      \"column\": \"posts\",\n      \"properties\": {\n        \"dtype\": \"string\",\n        \"num_unique_values\": 10391,\n        \"samples\": [\n          \"look at liver function bloodwork http www dummy com how to content look at liver function bloodwork html\",\n          \"hey I am new here try to find a place to express what I am go through and find other to talk to who might have some understanding as what I am go through I have several different issue that seem to be build up on I and I do not talk about my problem easily I am hope by join a few different support group that I might get well at this and try to release some of this build up tension and try to work through my sadness and problem not feel so alone in reality I am not alone I just do not feel like anyone around I truly understand what I am go through as I am sure many other people feel the same I do not like to feel like I am whine or complain or that I am not strong enough to deal with my problem but I feel weak every day I am in the family and friend of cancer patient group because my father was diagnose with stage 4 renal cancer the first week of january he was at my wedding in september and look great he play golf in october and november the last week of november he start to look anemic so his wife take he to the doctor they confirm cancer in january everything have happen so quick the cancer is so aggressive that it have already spread from his kidney to his liver lung and spine they would not do radiation or chemo they try he on torisel but he have such a bad reaction to it that they take he off now he have have one treatment of avastin and so far no real bad side effect except for a small rash he live so far away I go to visit he a couple of week ago and he have already lose so much weight I do not even recognize he it seem so unfair that this is happen it is all happen so quick it make I so sad and upset and I am angry that it seem like he do not even get a true fighting chance they can not do surgery and I am hope this avastin really help he is a good man\",\n          \"I am a new member reach out and willing to give back to the extend of my ability my father was recently diagnose with stage iv colon cancer multiple liver met as well as met to the lung and bone it feel unworldly to even have it write down he is start his 5th round of chemo I have always have this fear in I about my father die it might have to do with the fact that due to his job we spend month without see he he have always been healthy very fit physically and emotionally strong since the day of the diagnosis I feel more human than ever face my father death is both heart break and soothe it is the first time in my life that I am not afraid of my own mortality I am sincerely sorry if I offend anyone by say so it is such a weird feeling I can barely put it into word as far as the doc say there is no chance for long term survival they talk about month I do not want to listen to number anymore I take every day as it comes try hard to be thankful for the present of the present I do let my self cry and reach out I make sure I see he as often as possible for my father I grow wing out of my arm it hurt a lot but my human arm are too weak to hold he he is big than life now\"\n        ],\n        \"semantic_type\": \"\",\n        \"description\": \"\"\n      }\n    },\n    {\n      \"column\": \"predicted\",\n      \"properties\": {\n        \"dtype\": \"category\",\n        \"num_unique_values\": 4,\n        \"samples\": [\n          \"neutral\",\n          \"very negative\",\n          \"negative\"\n        ],\n        \"semantic_type\": \"\",\n        \"description\": \"\"\n      }\n    },\n    {\n      \"column\": \"intensity\",\n      \"properties\": {\n        \"dtype\": \"number\",\n        \"std\": 0,\n        \"min\": -2,\n        \"max\": 1,\n        \"num_unique_values\": 4,\n        \"samples\": [\n          0,\n          -2,\n          -1\n        ],\n        \"semantic_type\": \"\",\n        \"description\": \"\"\n      }\n    }\n  ]\n}"
            }
          },
          "metadata": {},
          "execution_count": 55
        }
      ],
      "source": [
        "df = pd.read_csv('Mental Health Dataset.csv')\n",
        "df.head()"
      ]
    },
    {
      "cell_type": "code",
      "execution_count": 56,
      "id": "39cf57a0-745a-41f7-8442-2177a339f71b",
      "metadata": {
        "tags": [],
        "colab": {
          "base_uri": "https://localhost:8080/"
        },
        "id": "39cf57a0-745a-41f7-8442-2177a339f71b",
        "outputId": "94eee781-f6d8-4076-d668-d6975bc3a402"
      },
      "outputs": [
        {
          "output_type": "execute_result",
          "data": {
            "text/plain": [
              "(10392, 3)"
            ]
          },
          "metadata": {},
          "execution_count": 56
        }
      ],
      "source": [
        "df.shape"
      ]
    },
    {
      "cell_type": "markdown",
      "source": [
        "# New section"
      ],
      "metadata": {
        "id": "Us3epxfrj6iE"
      },
      "id": "Us3epxfrj6iE"
    },
    {
      "cell_type": "code",
      "execution_count": 57,
      "id": "ec2083a2-f447-4111-9b5e-5d81c5da50d1",
      "metadata": {
        "tags": [],
        "colab": {
          "base_uri": "https://localhost:8080/"
        },
        "id": "ec2083a2-f447-4111-9b5e-5d81c5da50d1",
        "outputId": "6d9dd5fb-ff67-4020-cafd-c3dae959f0d7"
      },
      "outputs": [
        {
          "output_type": "execute_result",
          "data": {
            "text/plain": [
              "posts        1\n",
              "predicted    0\n",
              "intensity    0\n",
              "dtype: int64"
            ]
          },
          "metadata": {},
          "execution_count": 57
        }
      ],
      "source": [
        "df.isnull().sum()"
      ]
    },
    {
      "cell_type": "code",
      "execution_count": 58,
      "id": "5ee3786d-61d5-4d39-b10d-8ad06d09fc31",
      "metadata": {
        "tags": [],
        "colab": {
          "base_uri": "https://localhost:8080/"
        },
        "id": "5ee3786d-61d5-4d39-b10d-8ad06d09fc31",
        "outputId": "6aa7c362-a0c3-42f4-b77d-81077a2361b5"
      },
      "outputs": [
        {
          "output_type": "execute_result",
          "data": {
            "text/plain": [
              "posts        0\n",
              "predicted    0\n",
              "intensity    0\n",
              "dtype: int64"
            ]
          },
          "metadata": {},
          "execution_count": 58
        }
      ],
      "source": [
        "df = df.dropna()\n",
        "df.isnull().sum()"
      ]
    },
    {
      "cell_type": "code",
      "execution_count": 59,
      "id": "90c99c73-fc4d-4ea0-b118-540b1263e23b",
      "metadata": {
        "tags": [],
        "colab": {
          "base_uri": "https://localhost:8080/"
        },
        "id": "90c99c73-fc4d-4ea0-b118-540b1263e23b",
        "outputId": "acc3abed-5735-4ee2-aaa5-4f86f2c1ca6d"
      },
      "outputs": [
        {
          "output_type": "stream",
          "name": "stdout",
          "text": [
            "<class 'pandas.core.frame.DataFrame'>\n",
            "Index: 10391 entries, 0 to 10391\n",
            "Data columns (total 3 columns):\n",
            " #   Column     Non-Null Count  Dtype \n",
            "---  ------     --------------  ----- \n",
            " 0   posts      10391 non-null  object\n",
            " 1   predicted  10391 non-null  object\n",
            " 2   intensity  10391 non-null  int64 \n",
            "dtypes: int64(1), object(2)\n",
            "memory usage: 324.7+ KB\n"
          ]
        }
      ],
      "source": [
        "df.info()"
      ]
    },
    {
      "cell_type": "code",
      "execution_count": 60,
      "id": "c0e91b68-244a-433e-8cdf-d091fb004249",
      "metadata": {
        "tags": [],
        "colab": {
          "base_uri": "https://localhost:8080/"
        },
        "id": "c0e91b68-244a-433e-8cdf-d091fb004249",
        "outputId": "d4e7fec1-454e-479d-80f1-dc3a0c93a870"
      },
      "outputs": [
        {
          "output_type": "execute_result",
          "data": {
            "text/plain": [
              "posts        10391\n",
              "predicted        4\n",
              "intensity        4\n",
              "dtype: int64"
            ]
          },
          "metadata": {},
          "execution_count": 60
        }
      ],
      "source": [
        "df.nunique()"
      ]
    },
    {
      "cell_type": "code",
      "execution_count": 61,
      "id": "d50f7e5d-b423-45cf-a682-5ad17907c5e2",
      "metadata": {
        "tags": [],
        "colab": {
          "base_uri": "https://localhost:8080/"
        },
        "id": "d50f7e5d-b423-45cf-a682-5ad17907c5e2",
        "outputId": "dc3ab507-688c-4d28-b9d4-f4ce554ca0d5"
      },
      "outputs": [
        {
          "output_type": "execute_result",
          "data": {
            "text/plain": [
              "array(['negative', 'neutral', 'positive', 'very negative'], dtype=object)"
            ]
          },
          "metadata": {},
          "execution_count": 61
        }
      ],
      "source": [
        "df['predicted'].unique()"
      ]
    },
    {
      "cell_type": "code",
      "execution_count": 62,
      "id": "4a957e6b-3c71-4c1e-95e1-6808d5627289",
      "metadata": {
        "tags": [],
        "colab": {
          "base_uri": "https://localhost:8080/"
        },
        "id": "4a957e6b-3c71-4c1e-95e1-6808d5627289",
        "outputId": "b42115e7-8a67-4624-891b-331fdd7631b8"
      },
      "outputs": [
        {
          "output_type": "execute_result",
          "data": {
            "text/plain": [
              "predicted\n",
              "neutral          4374\n",
              "negative         4112\n",
              "very negative    1155\n",
              "positive          750\n",
              "Name: count, dtype: int64"
            ]
          },
          "metadata": {},
          "execution_count": 62
        }
      ],
      "source": [
        "df['predicted'].value_counts()"
      ]
    },
    {
      "cell_type": "code",
      "execution_count": 63,
      "id": "6795fa0a-e923-4ac6-9211-d4554e578ba7",
      "metadata": {
        "tags": [],
        "colab": {
          "base_uri": "https://localhost:8080/",
          "height": 489
        },
        "id": "6795fa0a-e923-4ac6-9211-d4554e578ba7",
        "outputId": "d4bb4b80-c5bc-4b32-b6a0-fd9b378e9dd4"
      },
      "outputs": [
        {
          "output_type": "display_data",
          "data": {
            "text/plain": [
              "<Figure size 1500x600 with 1 Axes>"
            ],
            "image/png": "[encoded data removed]"
          },
          "metadata": {}
        }
      ],
      "source": [
        "plt.figure(figsize=(15,6))\n",
        "sns.countplot(x = df['predicted'], data=df, palette='hls')\n",
        "plt.show()"
      ]
    },
    {
      "cell_type": "code",
      "execution_count": 63,
      "id": "a371175f-8f48-4aba-8eda-59dce1c49eac",
      "metadata": {
        "id": "a371175f-8f48-4aba-8eda-59dce1c49eac"
      },
      "outputs": [],
      "source": []
    },
    {
      "cell_type": "code",
      "execution_count": 64,
      "id": "3e0112dc-ea55-4fa5-883c-520dc7fc4989",
      "metadata": {
        "tags": [],
        "colab": {
          "base_uri": "https://localhost:8080/",
          "height": 1000
        },
        "id": "3e0112dc-ea55-4fa5-883c-520dc7fc4989",
        "outputId": "eda517b9-71b0-4bb0-d63e-39c48e7e4f90"
      },
      "outputs": [
        {
          "output_type": "display_data",
          "data": {
            "text/plain": [
              "<Figure size 3000x2000 with 1 Axes>"
            ],
            "image/png": "[encoded data removed]"
          },
          "metadata": {}
        }
      ],
      "source": [
        "plt.figure(figsize=(30,20))\n",
        "plt.pie(df['predicted'].value_counts(), labels=df['predicted'].value_counts().index,\n",
        "       autopct='%1.1f%%', textprops={'fontsize':25, 'color':'black','weight':'bold',\n",
        "                                    'family':'serif'})\n",
        "hfont = {'fontname':'serif', 'weight':'bold'}\n",
        "plt.title('predicted', size=20, **hfont)\n",
        "plt.show()"
      ]
    },
    {
      "cell_type": "code",
      "execution_count": 65,
      "id": "639fbceb-87f2-4105-b7c2-417527bbf7f5",
      "metadata": {
        "tags": [],
        "id": "639fbceb-87f2-4105-b7c2-417527bbf7f5"
      },
      "outputs": [],
      "source": [
        "df_new = df.copy()"
      ]
    },
    {
      "cell_type": "code",
      "execution_count": 66,
      "id": "4382aa8e-032c-481f-abee-62bd83c4256a",
      "metadata": {
        "tags": [],
        "id": "4382aa8e-032c-481f-abee-62bd83c4256a"
      },
      "outputs": [],
      "source": [
        "def clean_text(text):\n",
        "    text = text.lower()\n",
        "    return text.strip()"
      ]
    },
    {
      "cell_type": "code",
      "execution_count": 67,
      "id": "bf5bb115-9107-4270-856c-eba428d5ca1f",
      "metadata": {
        "tags": [],
        "id": "bf5bb115-9107-4270-856c-eba428d5ca1f"
      },
      "outputs": [],
      "source": [
        "# df_new['posts'] = df_new['posts'].apply(lambda x: clean_text(x))"
      ]
    },
    {
      "cell_type": "code",
      "execution_count": 68,
      "id": "08082e7b-e19b-491b-a848-b3bc10b13b4c",
      "metadata": {
        "tags": [],
        "id": "08082e7b-e19b-491b-a848-b3bc10b13b4c"
      },
      "outputs": [],
      "source": [
        "import string\n",
        "def remove_punctuation(text):\n",
        "    punctuationfree = \"\".join([i for i in text if i not in string.punctuation])\n",
        "    return punctuationfree"
      ]
    },
    {
      "cell_type": "code",
      "execution_count": 69,
      "id": "385a48ab-e507-469c-a6a5-a6cb9df86175",
      "metadata": {
        "tags": [],
        "id": "385a48ab-e507-469c-a6a5-a6cb9df86175"
      },
      "outputs": [],
      "source": [
        "# df_new['posts'] = df_new['posts'].apply(lambda x: remove_punctuation(x))"
      ]
    },
    {
      "cell_type": "code",
      "execution_count": 70,
      "id": "1dc5a795-2980-4aac-a572-7f5cca11b454",
      "metadata": {
        "tags": [],
        "id": "1dc5a795-2980-4aac-a572-7f5cca11b454"
      },
      "outputs": [],
      "source": [
        "import re\n",
        "\n",
        "def tokenization(text):\n",
        "    tokens = re.split('W+', text)\n",
        "    return tokens"
      ]
    },
    {
      "cell_type": "code",
      "execution_count": 71,
      "id": "30fdcb65-6a02-4940-bc77-b9c731c36fbb",
      "metadata": {
        "tags": [],
        "id": "30fdcb65-6a02-4940-bc77-b9c731c36fbb"
      },
      "outputs": [],
      "source": [
        "# df_new['posts'] = df_new['posts'].apply(lambda x: tokenization(x))"
      ]
    },
    {
      "cell_type": "code",
      "execution_count": 72,
      "id": "e552bc8b-c0db-4bc5-8f28-2bdb349fca39",
      "metadata": {
        "tags": [],
        "id": "e552bc8b-c0db-4bc5-8f28-2bdb349fca39"
      },
      "outputs": [],
      "source": [
        "import nltk"
      ]
    },
    {
      "cell_type": "code",
      "execution_count": 73,
      "id": "b9029ea2-fd21-42f2-ac9d-adde2cf75db1",
      "metadata": {
        "tags": [],
        "colab": {
          "base_uri": "https://localhost:8080/"
        },
        "id": "b9029ea2-fd21-42f2-ac9d-adde2cf75db1",
        "outputId": "674e4c96-7f4f-45cd-eff3-b217bfdc7e59"
      },
      "outputs": [
        {
          "output_type": "stream",
          "name": "stderr",
          "text": [
            "[nltk_data] Downloading package vader_lexicon to /root/nltk_data...\n",
            "[nltk_data]   Package vader_lexicon is already up-to-date!\n",
            "[nltk_data] Downloading package stopwords to /root/nltk_data...\n",
            "[nltk_data]   Package stopwords is already up-to-date!\n"
          ]
        },
        {
          "output_type": "execute_result",
          "data": {
            "text/plain": [
              "True"
            ]
          },
          "metadata": {},
          "execution_count": 73
        }
      ],
      "source": [
        "nltk.download('vader_lexicon')\n",
        "nltk.download('stopwords')"
      ]
    },
    {
      "cell_type": "code",
      "execution_count": 74,
      "id": "5ce67d40-ea04-4b90-9417-c45a373cc907",
      "metadata": {
        "tags": [],
        "colab": {
          "base_uri": "https://localhost:8080/"
        },
        "id": "5ce67d40-ea04-4b90-9417-c45a373cc907",
        "outputId": "327988a2-dc38-4fde-c1d6-b65f79b3ff8b"
      },
      "outputs": [
        {
          "output_type": "execute_result",
          "data": {
            "text/plain": [
              "['i',\n",
              " 'me',\n",
              " 'my',\n",
              " 'myself',\n",
              " 'we',\n",
              " 'our',\n",
              " 'ours',\n",
              " 'ourselves',\n",
              " 'you',\n",
              " \"you're\",\n",
              " \"you've\",\n",
              " \"you'll\",\n",
              " \"you'd\",\n",
              " 'your',\n",
              " 'yours',\n",
              " 'yourself',\n",
              " 'yourselves',\n",
              " 'he',\n",
              " 'him',\n",
              " 'his',\n",
              " 'himself',\n",
              " 'she',\n",
              " \"she's\",\n",
              " 'her',\n",
              " 'hers',\n",
              " 'herself',\n",
              " 'it',\n",
              " \"it's\",\n",
              " 'its',\n",
              " 'itself',\n",
              " 'they',\n",
              " 'them',\n",
              " 'their',\n",
              " 'theirs',\n",
              " 'themselves',\n",
              " 'what',\n",
              " 'which',\n",
              " 'who',\n",
              " 'whom',\n",
              " 'this',\n",
              " 'that',\n",
              " \"that'll\",\n",
              " 'these',\n",
              " 'those',\n",
              " 'am',\n",
              " 'is',\n",
              " 'are',\n",
              " 'was',\n",
              " 'were',\n",
              " 'be',\n",
              " 'been',\n",
              " 'being',\n",
              " 'have',\n",
              " 'has',\n",
              " 'had',\n",
              " 'having',\n",
              " 'do',\n",
              " 'does',\n",
              " 'did',\n",
              " 'doing',\n",
              " 'a',\n",
              " 'an',\n",
              " 'the',\n",
              " 'and',\n",
              " 'but',\n",
              " 'if',\n",
              " 'or',\n",
              " 'because',\n",
              " 'as',\n",
              " 'until',\n",
              " 'while',\n",
              " 'of',\n",
              " 'at',\n",
              " 'by',\n",
              " 'for',\n",
              " 'with',\n",
              " 'about',\n",
              " 'against',\n",
              " 'between',\n",
              " 'into',\n",
              " 'through',\n",
              " 'during',\n",
              " 'before',\n",
              " 'after',\n",
              " 'above',\n",
              " 'below',\n",
              " 'to',\n",
              " 'from',\n",
              " 'up',\n",
              " 'down',\n",
              " 'in',\n",
              " 'out',\n",
              " 'on',\n",
              " 'off',\n",
              " 'over',\n",
              " 'under',\n",
              " 'again',\n",
              " 'further',\n",
              " 'then',\n",
              " 'once',\n",
              " 'here',\n",
              " 'there',\n",
              " 'when',\n",
              " 'where',\n",
              " 'why',\n",
              " 'how',\n",
              " 'all',\n",
              " 'any',\n",
              " 'both',\n",
              " 'each',\n",
              " 'few',\n",
              " 'more',\n",
              " 'most',\n",
              " 'other',\n",
              " 'some',\n",
              " 'such',\n",
              " 'no',\n",
              " 'nor',\n",
              " 'not',\n",
              " 'only',\n",
              " 'own',\n",
              " 'same',\n",
              " 'so',\n",
              " 'than',\n",
              " 'too',\n",
              " 'very',\n",
              " 's',\n",
              " 't',\n",
              " 'can',\n",
              " 'will',\n",
              " 'just',\n",
              " 'don',\n",
              " \"don't\",\n",
              " 'should',\n",
              " \"should've\",\n",
              " 'now',\n",
              " 'd',\n",
              " 'll',\n",
              " 'm',\n",
              " 'o',\n",
              " 're',\n",
              " 've',\n",
              " 'y',\n",
              " 'ain',\n",
              " 'aren',\n",
              " \"aren't\",\n",
              " 'couldn',\n",
              " \"couldn't\",\n",
              " 'didn',\n",
              " \"didn't\",\n",
              " 'doesn',\n",
              " \"doesn't\",\n",
              " 'hadn',\n",
              " \"hadn't\",\n",
              " 'hasn',\n",
              " \"hasn't\",\n",
              " 'haven',\n",
              " \"haven't\",\n",
              " 'isn',\n",
              " \"isn't\",\n",
              " 'ma',\n",
              " 'mightn',\n",
              " \"mightn't\",\n",
              " 'mustn',\n",
              " \"mustn't\",\n",
              " 'needn',\n",
              " \"needn't\",\n",
              " 'shan',\n",
              " \"shan't\",\n",
              " 'shouldn',\n",
              " \"shouldn't\",\n",
              " 'wasn',\n",
              " \"wasn't\",\n",
              " 'weren',\n",
              " \"weren't\",\n",
              " 'won',\n",
              " \"won't\",\n",
              " 'wouldn',\n",
              " \"wouldn't\"]"
            ]
          },
          "metadata": {},
          "execution_count": 74
        }
      ],
      "source": [
        "stopwords = nltk.corpus.stopwords.words('english')\n",
        "stopwords"
      ]
    },
    {
      "cell_type": "code",
      "execution_count": 75,
      "id": "2468ed58-1d6e-4d93-9708-c6ac8ee076f8",
      "metadata": {
        "tags": [],
        "id": "2468ed58-1d6e-4d93-9708-c6ac8ee076f8"
      },
      "outputs": [],
      "source": [
        "def remove_Stopwords(text):\n",
        "    output = \" \".join(word for word in text.split() if word.lower() not in stopwords)\n",
        "    return output"
      ]
    },
    {
      "cell_type": "code",
      "execution_count": 76,
      "id": "2cb76a7a-dab9-480c-931a-c5aaf6e612a9",
      "metadata": {
        "tags": [],
        "id": "2cb76a7a-dab9-480c-931a-c5aaf6e612a9"
      },
      "outputs": [],
      "source": [
        "# df_new['posts'] = df_new['posts'].apply(lambda x: remove_Stopwords(x))"
      ]
    },
    {
      "cell_type": "code",
      "execution_count": 77,
      "id": "8537fb7f-e02f-43e8-88ff-e079afa37db0",
      "metadata": {
        "tags": [],
        "id": "8537fb7f-e02f-43e8-88ff-e079afa37db0"
      },
      "outputs": [],
      "source": [
        "from nltk.stem import WordNetLemmatizer"
      ]
    },
    {
      "cell_type": "code",
      "execution_count": 78,
      "id": "6a77ec12-63ec-4ccf-8671-8f209d2805cf",
      "metadata": {
        "tags": [],
        "id": "6a77ec12-63ec-4ccf-8671-8f209d2805cf"
      },
      "outputs": [],
      "source": [
        "wordnet_lemmatizer = WordNetLemmatizer()"
      ]
    },
    {
      "cell_type": "code",
      "execution_count": 79,
      "id": "9178cbbf-39f9-49d6-b578-19194d1c1e8e",
      "metadata": {
        "tags": [],
        "colab": {
          "base_uri": "https://localhost:8080/"
        },
        "id": "9178cbbf-39f9-49d6-b578-19194d1c1e8e",
        "outputId": "3ef4ce80-c9c2-4e0f-849f-bc2d32061026"
      },
      "outputs": [
        {
          "output_type": "stream",
          "name": "stderr",
          "text": [
            "[nltk_data] Downloading package wordnet to /root/nltk_data...\n",
            "[nltk_data]   Package wordnet is already up-to-date!\n"
          ]
        },
        {
          "output_type": "execute_result",
          "data": {
            "text/plain": [
              "True"
            ]
          },
          "metadata": {},
          "execution_count": 79
        }
      ],
      "source": [
        "nltk.download('wordnet')"
      ]
    },
    {
      "cell_type": "code",
      "execution_count": 80,
      "id": "e860ded5-272d-4667-b57e-3bc7f3d73490",
      "metadata": {
        "tags": [],
        "id": "e860ded5-272d-4667-b57e-3bc7f3d73490"
      },
      "outputs": [],
      "source": [
        "def lemmatizer(text):\n",
        "    lemm_text = \" \".join(wordnet_lemmatizer.lemmatize(word) for word in text.split())\n",
        "    return lemm_text"
      ]
    },
    {
      "cell_type": "code",
      "execution_count": 81,
      "id": "26478db3-f9aa-45c9-8069-ecef6b9acc4d",
      "metadata": {
        "tags": [],
        "id": "26478db3-f9aa-45c9-8069-ecef6b9acc4d"
      },
      "outputs": [],
      "source": [
        "# df_new['posts'] = df_new['posts'].apply(lambda x: lemmatizer(x))"
      ]
    },
    {
      "cell_type": "code",
      "execution_count": 82,
      "id": "b0655181-b450-46b7-a8ee-2a524c4718a1",
      "metadata": {
        "tags": [],
        "id": "b0655181-b450-46b7-a8ee-2a524c4718a1"
      },
      "outputs": [],
      "source": [
        "def remove_digits(text):\n",
        "    clean_text = re.sub('[^a-z]+',\" \", text)\n",
        "    return clean_text"
      ]
    },
    {
      "cell_type": "code",
      "execution_count": 83,
      "id": "c13a5607-5609-4613-bf96-cfd50d41ba77",
      "metadata": {
        "tags": [],
        "id": "c13a5607-5609-4613-bf96-cfd50d41ba77"
      },
      "outputs": [],
      "source": [
        "# df_new['posts'] = df_new['posts'].apply(lambda x: remove_digits(x))"
      ]
    },
    {
      "cell_type": "code",
      "execution_count": 84,
      "id": "496c4977-feb7-4fb5-bc9c-f315004a411b",
      "metadata": {
        "tags": [],
        "colab": {
          "base_uri": "https://localhost:8080/"
        },
        "id": "496c4977-feb7-4fb5-bc9c-f315004a411b",
        "outputId": "7c6dcb23-719a-4948-fa89-f9becf142814"
      },
      "outputs": [
        {
          "output_type": "execute_result",
          "data": {
            "text/plain": [
              "0        I know as parent of child with down syndrome t...\n",
              "1        but in my heart I know this is the future prom...\n",
              "2        I have mylefibrosis which turn to leukemia the...\n",
              "3        from one of my health group subject wayne dyer...\n",
              "4        gmos now link to leukemia http nsnbc I 2013 07...\n",
              "                               ...                        \n",
              "10387    hey everyone I am a 25 year old male I work ou...\n",
              "10388    have surgery for stage 1 colon cancer 1 year a...\n",
              "10389    the doctor advise we he could not remove the a...\n",
              "10390    my 66 year old father have been through so muc...\n",
              "10391    I have bein have a bloody stool since last yea...\n",
              "Name: posts, Length: 10391, dtype: object"
            ]
          },
          "metadata": {},
          "execution_count": 84
        }
      ],
      "source": [
        "df_new['posts']"
      ]
    },
    {
      "cell_type": "code",
      "source": [
        "df1 = df_new[['predicted','posts']]"
      ],
      "metadata": {
        "id": "PbrTu8P3lqxL"
      },
      "id": "PbrTu8P3lqxL",
      "execution_count": 85,
      "outputs": []
    },
    {
      "cell_type": "code",
      "source": [
        "df1['posts'].values"
      ],
      "metadata": {
        "colab": {
          "base_uri": "https://localhost:8080/"
        },
        "id": "GSgGK_mNowo7",
        "outputId": "6baa7ee1-029c-46a5-f37b-5e46ecf97475"
      },
      "id": "GSgGK_mNowo7",
      "execution_count": 86,
      "outputs": [
        {
          "output_type": "execute_result",
          "data": {
            "text/plain": [
              "array(['I know as parent of child with down syndrome that you have all hear that our child are at a high risk of leukemia as parent we read up on it and then say well that will not happen to my child well when will have just turn 2yr old he start bruise the thought of leukemia breafly cross my mind but I quickly push it out of my mind and rationalize it by say that he was a rough playing 2yr old and it was normal to bruise now and then I have just go to work a few month before and will have get a little more fussy and whinny but that is normal to right well then he get sick and like a lot of child with down when he get sick he get sick so we take he to the doc on a friday they say he have a cold and I tell my boss that he was sick and not to be surpise if I call and say he was in the hospital because they offten have to do that when he get sick she say ok and when sit get there sure enough he was much sicker and we take he to the er they tell we he have rsv and send we home with some med by the time we get home he was much bad and we take he back this time they order more test and put he in the hospital then my world start come down around I first they say that some of his blood work come back bad that they want to retest but it was probley nothing then that come back and they say they want to move he to icu just to keep a well I on he I start get scared that thought come back leukemia put again I try to push it out of my mind because no one want to think the bad well it was not long at all before the doc come in and say we believe william have leukemia they quickly fly he from beaumont tx to houston tx texas childrens hospital will is do really well now he is in remision but still have 3 1 2 yrs of chemo he was up run around but now can not walk anymore due to one of the chemos vinchristin but it will come back and he have just find other way to get around nothing is go to slow he dow I write all of this to say please do not dwell on it but if you see any symptom of leukemia in your child please get it check out it is well to find out because you are look for it than to find out like I and most other parent I have talk to by accident',\n",
              "       'but in my heart I know this is the future promise article regardless http ottawa ctvnew can ottawa researcher hopeful nano particle can cure leukemia 1 1409330 ottawa researcher hopeful nano particle can cure leukemia medical breakthrough ctv joanne schnurr on homegrown research that is close to cure leukemia medical leader around the world have their eye on ottawa blood cancer breakthrough ottawa doctor talk cure doctor at the ottawa research institute call it a major finding in the battle against the blood cancer leukemia share 8 text share on print share on email 0 joanne schnurr ctv ottawa publish tuesday august 13 2013 4 05pm edt last update tuesday august 13 2013 6 22pm edt ottawa researcher are cautiously use the word cure when talk about new research into leukemia the research is new and a long way from help human patient but in mouse they ve develop tiny particle that in the lab cause cancerous white blood cell to kill themselves for patient with acute myeloid leukemia stem cell transplant and heavy chemotherapy have been the only hope for a cure but even at that the survival rate is among the bad of all the cancer at 22 what s happen inside a lab at the ottawa hospital research institute is give new hope though for a cure for even the tough type of leukemia doctor david conrad and john bell have develop a tiny nano particle that cause human blood cancer cell to kill themselves the result on mouse have been dramatic photo dr david conrad at ottawa lab dr david conrad at ottawa lab cancer cell kill themselves cancer cell kill themselves in 60 percent of the mouse we have a cure explain dr david conrad a hematologist conduct research in the blood and marrow transplant program at the ottawa hospital so in other word if we leave these mouse to continue live in the lab they would live out their normal lifespan and were essentially cure of the leukemia all the other untreated mouse die within 21 day the particle were able to kill multiple form of leukemia in the lab include sample take from local patient who have fail all other form of therapy it have not yet been try on human and likely would not for a couple more year dr conrad have capture on video what happen to the leukemia cell when they are expose to the killer nano particle at first he say the cell are happy and move once the agent is introduce very rapidly they change behavior they become bloated and they shrivel up and you see all there is no movement and you see all the cancer cell in the plate completely dead they think this agent is def con 5 and they undergo suicide say dr conrad for biomedical science student mina rizk work alongside the researcher in a potential cure for leukemia is a once in a lifetime opportunity I m grateful to have find this opportunity say rizk I am very aware that not many student have the chance I do while their focus have been blood cancer the researcher say they have have some success on solid cancer tumor too the next step though are clinical trial to see if they can kill the cancer cell in human the same way they do in mouse read more http ottawa ctvnew can ottawa researcher hopeful nano particle can cure leukemia 1 1409330 ixzz2btqkefrh',\n",
              "       'I have mylefibrosis which turn to leukemia they want to do a stem cell transplant stc on I but want the leukemia in remission first I have induction chemo hard chemo for a week in the hospital follow by three week in hosp in recovery this do not put leukemia in remission for some reason this round of chemo hit I hard I get a pnemonia I have asthma and some blood clot around my pic line a few week later I go in for a second round of chemo for a week in hospital I have very few side effect from this and the bad part was sit around recover for three week in that tiny room with two kid at home my leukemia still do not go in remission so they schedule I for a stc and tell I I have about a 10 percent chance it would work it do it is 120 day from transplant and I have no trace of leukemia in my system I get to know slightly five people who have sct at the same time I do they have various cancer all of we agree the fear of it was bad than the actual experience an stc consist of a week of chemo at the end of which the put the stem cell in you just like they would give you a blood transfusion it drip in like an iv and take about 2 hour the five people I was with all make it through and meet again in recovery you have to come in every day for awhile then every other day then every week and so on 4 of we get great result one person still have leukemia when it was finish I encourage you to get a second opinion when you make big decision after mayo clinic scottsdale want I to do a second round of chemo I go to md anderson for a second opinion they tell I I was chemo reisitant and that they would suggest an experimental jak2 inhibitor I do not even have the jak2 gene or mutation or whatever I say have that ever work at put leukemia in remission and they say no I have two little kid and need a decent chance to beat this I go back to mayo and my doctor dr reeder assure I I have a chance and he was right I shudder to think I might have go with md anderson recommendation I would also recommend dr slack at mayo scottsdale oh and by the way 3 of the 5 people who have sct with I were between 66 and 71 year old anyhow good luck in your journey kathy 42 year old',\n",
              "       ...,\n",
              "       'the doctor advise we he could not remove the abnormal polyp before christ of it is size and that laparoscopic surgery is necessary they have to make an incision in his belly open he up do a colon resection and stitch everything my father recently have a colonoscopy do there were 6 small polyp that were easily remove during the colonoscopy but one was abnormal in size and close to the anus the doctor take a sample of the lesion which will be test for cancer g back up not only do I pray that the lesion is benign but was hope that laparoscopic surgery could some how be avoid and be do via a colonoscopy I read on the internet rarely a polyp will be too large to remove during colonoscopy which mean that a surgical procedure will be need at a later time I guess my question is what size is consider too large I am hope this doctor is not just eager to use his knife is all and do not want my 64 year old father with diabete to have to go through the recovery stage thank in advance',\n",
              "       'my 66 year old father have been through so much in this past year and I really need to try to find he some relief he was dx with stage 3 rectal cancer in march 09 he undergo radiation and chemo until the middle of may when my brother was kill in a motorcycle accident he have been do very well but the stress of his son in the hospital for 9 day and the grief when he die really do a number on his body he end up in icu due to chemo complication was on a ventilator dialysis total life support he was in the hospital for 30 day and then spend another month in an inpatient rehab center where he learn how to walk again he was strong enough to have his rectal tumor removal surgery in november 09 he was do pretty well with the bag before he have the ileostomy reversal surgery in march 10 it is now difficult for he to leave the house due to the number of bms per day and the pain he is have before during bms I realize he is not alone with the problem he is have now as many of you are go through the same issue I think he wish he do not have the reversal surgery but hopefully that will change as his body adjust his surgeon say everything is fine but he is not the one run to the bathroom 20x a day and deal with the pain I take my dad to a gi specialist who prescribe hydrocortisone ac suppositorie to help reduce the internal inflammation and reduce pain my dad surgical nurse say not to use hydrocortisone but I am wonder why not on other board I have read about use calmoseptine cocoa butter johnson johnson soft lotion and radiacreme to help with rectal pain can any of you offer advice as to how these have work for you so I can pass it along to my dad my dad is currently take lomotil and immodium as well as metamucil but can not seem to figure out the right balance any advice will be appreciate thank you very much sorry this is so long',\n",
              "       'I have bein have a bloody stool since last year it start around june it last about 2 week then it go away till the end of march of this year it come back I start bleed again I go to the doctor and he give I a diet so my stool could get a bit soft to see if thing will get well my stool get thin and soft with the diet he give I and I do stop bleed but the bleeding come back about a week ago when I do a really big and thick stool and I think that damage something on my rectal rectum area I was think it damage the wound that were heal my stool is ussually mark by a line of blood accompany by a couple of drop of blood nothing hurt though but I am start to get scared and its starting to get I very depressed because I do not have medical insurance but anyways this happen to I about 3 year ago but it go away in about 2 day I am 23 year old I eat really healthy I run about 12 to 15 mile every week I do not know why I have this I go to my local clinic a month ago and the doctor take a look at the opening of my rectal opening and he say I have anal fissure he tell he see a bunch of little cut and I am guess all of that damage was cause by my thick big hard stool but I am still very worried what is the good thing to do should I go back to the clinic the doctor say to go back if the bleeding continue'],\n",
              "      dtype=object)"
            ]
          },
          "metadata": {},
          "execution_count": 86
        }
      ]
    },
    {
      "cell_type": "code",
      "execution_count": 87,
      "id": "d178e595-3f58-4279-b91c-e70d97d98d5a",
      "metadata": {
        "tags": [],
        "colab": {
          "base_uri": "https://localhost:8080/"
        },
        "id": "d178e595-3f58-4279-b91c-e70d97d98d5a",
        "outputId": "e4cf1bf0-2ded-41b7-e7bd-b892f00ab36f"
      },
      "outputs": [
        {
          "output_type": "stream",
          "name": "stdout",
          "text": [
            "Requirement already satisfied: contractions in /usr/local/lib/python3.10/dist-packages (0.1.73)\n",
            "Requirement already satisfied: textsearch>=0.0.21 in /usr/local/lib/python3.10/dist-packages (from contractions) (0.0.24)\n",
            "Requirement already satisfied: anyascii in /usr/local/lib/python3.10/dist-packages (from textsearch>=0.0.21->contractions) (0.3.2)\n",
            "Requirement already satisfied: pyahocorasick in /usr/local/lib/python3.10/dist-packages (from textsearch>=0.0.21->contractions) (2.1.0)\n"
          ]
        }
      ],
      "source": [
        "!pip install contractions"
      ]
    },
    {
      "cell_type": "code",
      "execution_count": 89,
      "id": "c8936c11-aab4-48f2-9ea5-c62ed226b2fd",
      "metadata": {
        "colab": {
          "base_uri": "https://localhost:8080/"
        },
        "id": "c8936c11-aab4-48f2-9ea5-c62ed226b2fd",
        "outputId": "96ae71ec-6261-4e4b-9998-fddcd5bf0c3d"
      },
      "outputs": [
        {
          "output_type": "stream",
          "name": "stderr",
          "text": [
            "[nltk_data] Downloading package stopwords to /root/nltk_data...\n",
            "[nltk_data]   Package stopwords is already up-to-date!\n",
            "100%|██████████| 10391/10391 [00:30<00:00, 343.84it/s]\n"
          ]
        }
      ],
      "source": [
        "# Checks if formula is applied to the entire dataset\n",
        "from tqdm import tqdm\n",
        "# I'm --> I am\n",
        "import contractions\n",
        "# to decipher html format\n",
        "from bs4 import BeautifulSoup\n",
        "from nltk.stem import WordNetLemmatizer\n",
        "import re\n",
        "import nltk\n",
        "wordnet = WordNetLemmatizer()\n",
        "nltk.download('stopwords')\n",
        "stopwords = nltk.corpus.stopwords.words('english')\n",
        "\n",
        "prepocessed_posts = []\n",
        "\n",
        "for sentence in tqdm(df1['posts'].values):\n",
        "  sentencee = contractions.fix(sentence)\n",
        "  sentence = BeautifulSoup(sentence, 'lxml').get_text()\n",
        "  sentence = re.sub(r\"https\\S+\", \"\", sentence)\n",
        "  sentence = re.sub(\"\\S*\\d\\S*\",\"\", sentence).strip()\n",
        "  sentence = re.sub('[^a-zA-Z\\s]+', \" \", sentence)\n",
        "  tokens = sentence.split()\n",
        "  tokens = [wordnet.lemmatize(word) for word in tokens if word.lower() not in stopwords]\n",
        "  cleaned_sentence = ' '.join(tokens).lower()\n",
        "  prepocessed_posts.append(cleaned_sentence.strip())\n",
        "# print(len(prepocessed_posts))"
      ]
    },
    {
      "cell_type": "markdown",
      "source": [
        "**Feature** **Engineering**"
      ],
      "metadata": {
        "id": "ZHOUDIUIDdwm"
      },
      "id": "ZHOUDIUIDdwm"
    },
    {
      "cell_type": "code",
      "source": [
        "from sklearn.feature_extraction.text import TfidfVectorizer, TfidfTransformer"
      ],
      "metadata": {
        "id": "6EiT2SyFlEvA"
      },
      "id": "6EiT2SyFlEvA",
      "execution_count": 90,
      "outputs": []
    },
    {
      "cell_type": "code",
      "source": [
        "# Instead of BOW we used TFIDF as the number of data in huge\n",
        "\n",
        "tf_idf_vect = TfidfVectorizer()\n",
        "tf_idf_vect.fit(prepocessed_posts)\n",
        "# print(f\"Feature names: {tf_idf_vect.get_feature_names_out()[0:50]}\")\n",
        "# final_counts_tfidf = tf_idf_vect.transform(prepocessed_posts)\n",
        "# print(f\"Count vectorizer: type(final_counts_tfidf)\")"
      ],
      "metadata": {
        "colab": {
          "base_uri": "https://localhost:8080/",
          "height": 74
        },
        "id": "XE8lj_jHFB7R",
        "outputId": "d5f885a6-beec-4687-d9ce-c77a91eaa6cf"
      },
      "id": "XE8lj_jHFB7R",
      "execution_count": 96,
      "outputs": [
        {
          "output_type": "execute_result",
          "data": {
            "text/plain": [
              "TfidfVectorizer()"
            ],
            "text/html": [
              "<style>#sk-container-id-1 {color: black;background-color: white;}#sk-container-id-1 pre{padding: 0;}#sk-container-id-1 div.sk-toggleable {background-color: white;}#sk-container-id-1 label.sk-toggleable__label {cursor: pointer;display: block;width: 100%;margin-bottom: 0;padding: 0.3em;box-sizing: border-box;text-align: center;}#sk-container-id-1 label.sk-toggleable__label-arrow:before {content: \"▸\";float: left;margin-right: 0.25em;color: #696969;}#sk-container-id-1 label.sk-toggleable__label-arrow:hover:before {color: black;}#sk-container-id-1 div.sk-estimator:hover label.sk-toggleable__label-arrow:before {color: black;}#sk-container-id-1 div.sk-toggleable__content {max-height: 0;max-width: 0;overflow: hidden;text-align: left;background-color: #f0f8ff;}#sk-container-id-1 div.sk-toggleable__content pre {margin: 0.2em;color: black;border-radius: 0.25em;background-color: #f0f8ff;}#sk-container-id-1 input.sk-toggleable__control:checked~div.sk-toggleable__content {max-height: 200px;max-width: 100%;overflow: auto;}#sk-container-id-1 input.sk-toggleable__control:checked~label.sk-toggleable__label-arrow:before {content: \"▾\";}#sk-container-id-1 div.sk-estimator input.sk-toggleable__control:checked~label.sk-toggleable__label {background-color: #d4ebff;}#sk-container-id-1 div.sk-label input.sk-toggleable__control:checked~label.sk-toggleable__label {background-color: #d4ebff;}#sk-container-id-1 input.sk-hidden--visually {border: 0;clip: rect(1px 1px 1px 1px);clip: rect(1px, 1px, 1px, 1px);height: 1px;margin: -1px;overflow: hidden;padding: 0;position: absolute;width: 1px;}#sk-container-id-1 div.sk-estimator {font-family: monospace;background-color: #f0f8ff;border: 1px dotted black;border-radius: 0.25em;box-sizing: border-box;margin-bottom: 0.5em;}#sk-container-id-1 div.sk-estimator:hover {background-color: #d4ebff;}#sk-container-id-1 div.sk-parallel-item::after {content: \"\";width: 100%;border-bottom: 1px solid gray;flex-grow: 1;}#sk-container-id-1 div.sk-label:hover label.sk-toggleable__label {background-color: #d4ebff;}#sk-container-id-1 div.sk-serial::before {content: \"\";position: absolute;border-left: 1px solid gray;box-sizing: border-box;top: 0;bottom: 0;left: 50%;z-index: 0;}#sk-container-id-1 div.sk-serial {display: flex;flex-direction: column;align-items: center;background-color: white;padding-right: 0.2em;padding-left: 0.2em;position: relative;}#sk-container-id-1 div.sk-item {position: relative;z-index: 1;}#sk-container-id-1 div.sk-parallel {display: flex;align-items: stretch;justify-content: center;background-color: white;position: relative;}#sk-container-id-1 div.sk-item::before, #sk-container-id-1 div.sk-parallel-item::before {content: \"\";position: absolute;border-left: 1px solid gray;box-sizing: border-box;top: 0;bottom: 0;left: 50%;z-index: -1;}#sk-container-id-1 div.sk-parallel-item {display: flex;flex-direction: column;z-index: 1;position: relative;background-color: white;}#sk-container-id-1 div.sk-parallel-item:first-child::after {align-self: flex-end;width: 50%;}#sk-container-id-1 div.sk-parallel-item:last-child::after {align-self: flex-start;width: 50%;}#sk-container-id-1 div.sk-parallel-item:only-child::after {width: 0;}#sk-container-id-1 div.sk-dashed-wrapped {border: 1px dashed gray;margin: 0 0.4em 0.5em 0.4em;box-sizing: border-box;padding-bottom: 0.4em;background-color: white;}#sk-container-id-1 div.sk-label label {font-family: monospace;font-weight: bold;display: inline-block;line-height: 1.2em;}#sk-container-id-1 div.sk-label-container {text-align: center;}#sk-container-id-1 div.sk-container {/* jupyter's `normalize.less` sets `[hidden] { display: none; }` but bootstrap.min.css set `[hidden] { display: none !important; }` so we also need the `!important` here to be able to override the default hidden behavior on the sphinx rendered scikit-learn.org. See: https://github.com/scikit-learn/scikit-learn/issues/21755 */display: inline-block !important;position: relative;}#sk-container-id-1 div.sk-text-repr-fallback {display: none;}</style><div id=\"sk-container-id-1\" class=\"sk-top-container\"><div class=\"sk-text-repr-fallback\"><pre>TfidfVectorizer()</pre><b>In a Jupyter environment, please rerun this cell to show the HTML representation or trust the notebook. <br />On GitHub, the HTML representation is unable to render, please try loading this page with nbviewer.org.</b></div><div class=\"sk-container\" hidden><div class=\"sk-item\"><div class=\"sk-estimator sk-toggleable\"><input class=\"sk-toggleable__control sk-hidden--visually\" id=\"sk-estimator-id-1\" type=\"checkbox\" checked><label for=\"sk-estimator-id-1\" class=\"sk-toggleable__label sk-toggleable__label-arrow\">TfidfVectorizer</label><div class=\"sk-toggleable__content\"><pre>TfidfVectorizer()</pre></div></div></div></div></div>"
            ]
          },
          "metadata": {},
          "execution_count": 96
        }
      ]
    },
    {
      "cell_type": "code",
      "source": [
        "# final_counts_tfidf.shape"
      ],
      "metadata": {
        "colab": {
          "base_uri": "https://localhost:8080/"
        },
        "id": "QoGuNawiDo0B",
        "outputId": "de17122f-2ab0-4caa-c6a9-275db052937f"
      },
      "id": "QoGuNawiDo0B",
      "execution_count": 92,
      "outputs": [
        {
          "output_type": "execute_result",
          "data": {
            "text/plain": [
              "(10391, 35002)"
            ]
          },
          "metadata": {},
          "execution_count": 92
        }
      ]
    },
    {
      "cell_type": "code",
      "source": [
        "final_counts_tfidf = tf_idf_vect.transform(prepocessed_posts).toarray()"
      ],
      "metadata": {
        "id": "GUedo8LqFtYs"
      },
      "id": "GUedo8LqFtYs",
      "execution_count": 93,
      "outputs": []
    },
    {
      "cell_type": "code",
      "source": [
        "pd.DataFrame(final_counts_tfidf).head()"
      ],
      "metadata": {
        "colab": {
          "base_uri": "https://localhost:8080/",
          "height": 235
        },
        "id": "-hgK5uwyIQvA",
        "outputId": "dbe950f7-303e-4c03-b8a9-c2ca67c32bf2"
      },
      "id": "-hgK5uwyIQvA",
      "execution_count": 95,
      "outputs": [
        {
          "output_type": "execute_result",
          "data": {
            "text/plain": [
              "   0      1      2      3      4      5      6      7      8      9      ...  \\\n",
              "0    0.0    0.0    0.0    0.0    0.0    0.0    0.0    0.0    0.0    0.0  ...   \n",
              "1    0.0    0.0    0.0    0.0    0.0    0.0    0.0    0.0    0.0    0.0  ...   \n",
              "2    0.0    0.0    0.0    0.0    0.0    0.0    0.0    0.0    0.0    0.0  ...   \n",
              "3    0.0    0.0    0.0    0.0    0.0    0.0    0.0    0.0    0.0    0.0  ...   \n",
              "4    0.0    0.0    0.0    0.0    0.0    0.0    0.0    0.0    0.0    0.0  ...   \n",
              "\n",
              "   34992  34993  34994  34995  34996  34997  34998  34999  35000  35001  \n",
              "0    0.0    0.0    0.0    0.0    0.0    0.0    0.0    0.0    0.0    0.0  \n",
              "1    0.0    0.0    0.0    0.0    0.0    0.0    0.0    0.0    0.0    0.0  \n",
              "2    0.0    0.0    0.0    0.0    0.0    0.0    0.0    0.0    0.0    0.0  \n",
              "3    0.0    0.0    0.0    0.0    0.0    0.0    0.0    0.0    0.0    0.0  \n",
              "4    0.0    0.0    0.0    0.0    0.0    0.0    0.0    0.0    0.0    0.0  \n",
              "\n",
              "[5 rows x 35002 columns]"
            ],
            "text/html": [
              "\n",
              "  <div id=\"df-a82bce34-6470-4742-bd48-a0102775f2ef\" class=\"colab-df-container\">\n",
              "    <div>\n",
              "<style scoped>\n",
              "    .dataframe tbody tr th:only-of-type {\n",
              "        vertical-align: middle;\n",
              "    }\n",
              "\n",
              "    .dataframe tbody tr th {\n",
              "        vertical-align: top;\n",
              "    }\n",
              "\n",
              "    .dataframe thead th {\n",
              "        text-align: right;\n",
              "    }\n",
              "</style>\n",
              "<table border=\"1\" class=\"dataframe\">\n",
              "  <thead>\n",
              "    <tr style=\"text-align: right;\">\n",
              "      <th></th>\n",
              "      <th>0</th>\n",
              "      <th>1</th>\n",
              "      <th>2</th>\n",
              "      <th>3</th>\n",
              "      <th>4</th>\n",
              "      <th>5</th>\n",
              "      <th>6</th>\n",
              "      <th>7</th>\n",
              "      <th>8</th>\n",
              "      <th>9</th>\n",
              "      <th>...</th>\n",
              "      <th>34992</th>\n",
              "      <th>34993</th>\n",
              "      <th>34994</th>\n",
              "      <th>34995</th>\n",
              "      <th>34996</th>\n",
              "      <th>34997</th>\n",
              "      <th>34998</th>\n",
              "      <th>34999</th>\n",
              "      <th>35000</th>\n",
              "      <th>35001</th>\n",
              "    </tr>\n",
              "  </thead>\n",
              "  <tbody>\n",
              "    <tr>\n",
              "      <th>0</th>\n",
              "      <td>0.0</td>\n",
              "      <td>0.0</td>\n",
              "      <td>0.0</td>\n",
              "      <td>0.0</td>\n",
              "      <td>0.0</td>\n",
              "      <td>0.0</td>\n",
              "      <td>0.0</td>\n",
              "      <td>0.0</td>\n",
              "      <td>0.0</td>\n",
              "      <td>0.0</td>\n",
              "      <td>...</td>\n",
              "      <td>0.0</td>\n",
              "      <td>0.0</td>\n",
              "      <td>0.0</td>\n",
              "      <td>0.0</td>\n",
              "      <td>0.0</td>\n",
              "      <td>0.0</td>\n",
              "      <td>0.0</td>\n",
              "      <td>0.0</td>\n",
              "      <td>0.0</td>\n",
              "      <td>0.0</td>\n",
              "    </tr>\n",
              "    <tr>\n",
              "      <th>1</th>\n",
              "      <td>0.0</td>\n",
              "      <td>0.0</td>\n",
              "      <td>0.0</td>\n",
              "      <td>0.0</td>\n",
              "      <td>0.0</td>\n",
              "      <td>0.0</td>\n",
              "      <td>0.0</td>\n",
              "      <td>0.0</td>\n",
              "      <td>0.0</td>\n",
              "      <td>0.0</td>\n",
              "      <td>...</td>\n",
              "      <td>0.0</td>\n",
              "      <td>0.0</td>\n",
              "      <td>0.0</td>\n",
              "      <td>0.0</td>\n",
              "      <td>0.0</td>\n",
              "      <td>0.0</td>\n",
              "      <td>0.0</td>\n",
              "      <td>0.0</td>\n",
              "      <td>0.0</td>\n",
              "      <td>0.0</td>\n",
              "    </tr>\n",
              "    <tr>\n",
              "      <th>2</th>\n",
              "      <td>0.0</td>\n",
              "      <td>0.0</td>\n",
              "      <td>0.0</td>\n",
              "      <td>0.0</td>\n",
              "      <td>0.0</td>\n",
              "      <td>0.0</td>\n",
              "      <td>0.0</td>\n",
              "      <td>0.0</td>\n",
              "      <td>0.0</td>\n",
              "      <td>0.0</td>\n",
              "      <td>...</td>\n",
              "      <td>0.0</td>\n",
              "      <td>0.0</td>\n",
              "      <td>0.0</td>\n",
              "      <td>0.0</td>\n",
              "      <td>0.0</td>\n",
              "      <td>0.0</td>\n",
              "      <td>0.0</td>\n",
              "      <td>0.0</td>\n",
              "      <td>0.0</td>\n",
              "      <td>0.0</td>\n",
              "    </tr>\n",
              "    <tr>\n",
              "      <th>3</th>\n",
              "      <td>0.0</td>\n",
              "      <td>0.0</td>\n",
              "      <td>0.0</td>\n",
              "      <td>0.0</td>\n",
              "      <td>0.0</td>\n",
              "      <td>0.0</td>\n",
              "      <td>0.0</td>\n",
              "      <td>0.0</td>\n",
              "      <td>0.0</td>\n",
              "      <td>0.0</td>\n",
              "      <td>...</td>\n",
              "      <td>0.0</td>\n",
              "      <td>0.0</td>\n",
              "      <td>0.0</td>\n",
              "      <td>0.0</td>\n",
              "      <td>0.0</td>\n",
              "      <td>0.0</td>\n",
              "      <td>0.0</td>\n",
              "      <td>0.0</td>\n",
              "      <td>0.0</td>\n",
              "      <td>0.0</td>\n",
              "    </tr>\n",
              "    <tr>\n",
              "      <th>4</th>\n",
              "      <td>0.0</td>\n",
              "      <td>0.0</td>\n",
              "      <td>0.0</td>\n",
              "      <td>0.0</td>\n",
              "      <td>0.0</td>\n",
              "      <td>0.0</td>\n",
              "      <td>0.0</td>\n",
              "      <td>0.0</td>\n",
              "      <td>0.0</td>\n",
              "      <td>0.0</td>\n",
              "      <td>...</td>\n",
              "      <td>0.0</td>\n",
              "      <td>0.0</td>\n",
              "      <td>0.0</td>\n",
              "      <td>0.0</td>\n",
              "      <td>0.0</td>\n",
              "      <td>0.0</td>\n",
              "      <td>0.0</td>\n",
              "      <td>0.0</td>\n",
              "      <td>0.0</td>\n",
              "      <td>0.0</td>\n",
              "    </tr>\n",
              "  </tbody>\n",
              "</table>\n",
              "<p>5 rows × 35002 columns</p>\n",
              "</div>\n",
              "    <div class=\"colab-df-buttons\">\n",
              "\n",
              "  <div class=\"colab-df-container\">\n",
              "    <button class=\"colab-df-convert\" onclick=\"convertToInteractive('df-a82bce34-6470-4742-bd48-a0102775f2ef')\"\n",
              "            title=\"Convert this dataframe to an interactive table.\"\n",
              "            style=\"display:none;\">\n",
              "\n",
              "  <svg xmlns=\"http://www.w3.org/2000/svg\" height=\"24px\" viewBox=\"0 -960 960 960\">\n",
              "    <path d=\"M120-120v-720h720v720H120Zm60-500h600v-160H180v160Zm220 220h160v-160H400v160Zm0 220h160v-160H400v160ZM180-400h160v-160H180v160Zm440 0h160v-160H620v160ZM180-180h160v-160H180v160Zm440 0h160v-160H620v160Z\"/>\n",
              "  </svg>\n",
              "    </button>\n",
              "\n",
              "  <style>\n",
              "    .colab-df-container {\n",
              "      display:flex;\n",
              "      gap: 12px;\n",
              "    }\n",
              "\n",
              "    .colab-df-convert {\n",
              "      background-color: #E8F0FE;\n",
              "      border: none;\n",
              "      border-radius: 50%;\n",
              "      cursor: pointer;\n",
              "      display: none;\n",
              "      fill: #1967D2;\n",
              "      height: 32px;\n",
              "      padding: 0 0 0 0;\n",
              "      width: 32px;\n",
              "    }\n",
              "\n",
              "    .colab-df-convert:hover {\n",
              "      background-color: #E2EBFA;\n",
              "      box-shadow: 0px 1px 2px rgba(60, 64, 67, 0.3), 0px 1px 3px 1px rgba(60, 64, 67, 0.15);\n",
              "      fill: #174EA6;\n",
              "    }\n",
              "\n",
              "    .colab-df-buttons div {\n",
              "      margin-bottom: 4px;\n",
              "    }\n",
              "\n",
              "    [theme=dark] .colab-df-convert {\n",
              "      background-color: #3B4455;\n",
              "      fill: #D2E3FC;\n",
              "    }\n",
              "\n",
              "    [theme=dark] .colab-df-convert:hover {\n",
              "      background-color: #434B5C;\n",
              "      box-shadow: 0px 1px 3px 1px rgba(0, 0, 0, 0.15);\n",
              "      filter: drop-shadow(0px 1px 2px rgba(0, 0, 0, 0.3));\n",
              "      fill: #FFFFFF;\n",
              "    }\n",
              "  </style>\n",
              "\n",
              "    <script>\n",
              "      const buttonEl =\n",
              "        document.querySelector('#df-a82bce34-6470-4742-bd48-a0102775f2ef button.colab-df-convert');\n",
              "      buttonEl.style.display =\n",
              "        google.colab.kernel.accessAllowed ? 'block' : 'none';\n",
              "\n",
              "      async function convertToInteractive(key) {\n",
              "        const element = document.querySelector('#df-a82bce34-6470-4742-bd48-a0102775f2ef');\n",
              "        const dataTable =\n",
              "          await google.colab.kernel.invokeFunction('convertToInteractive',\n",
              "                                                    [key], {});\n",
              "        if (!dataTable) return;\n",
              "\n",
              "        const docLinkHtml = 'Like what you see? Visit the ' +\n",
              "          '<a target=\"_blank\" href=https://colab.research.google.com/notebooks/data_table.ipynb>data table notebook</a>'\n",
              "          + ' to learn more about interactive tables.';\n",
              "        element.innerHTML = '';\n",
              "        dataTable['output_type'] = 'display_data';\n",
              "        await google.colab.output.renderOutput(dataTable, element);\n",
              "        const docLink = document.createElement('div');\n",
              "        docLink.innerHTML = docLinkHtml;\n",
              "        element.appendChild(docLink);\n",
              "      }\n",
              "    </script>\n",
              "  </div>\n",
              "\n",
              "\n",
              "<div id=\"df-3525e95e-cc23-4c82-971b-74f4fbd3b306\">\n",
              "  <button class=\"colab-df-quickchart\" onclick=\"quickchart('df-3525e95e-cc23-4c82-971b-74f4fbd3b306')\"\n",
              "            title=\"Suggest charts\"\n",
              "            style=\"display:none;\">\n",
              "\n",
              "<svg xmlns=\"http://www.w3.org/2000/svg\" height=\"24px\"viewBox=\"0 0 24 24\"\n",
              "     width=\"24px\">\n",
              "    <g>\n",
              "        <path d=\"M19 3H5c-1.1 0-2 .9-2 2v14c0 1.1.9 2 2 2h14c1.1 0 2-.9 2-2V5c0-1.1-.9-2-2-2zM9 17H7v-7h2v7zm4 0h-2V7h2v10zm4 0h-2v-4h2v4z\"/>\n",
              "    </g>\n",
              "</svg>\n",
              "  </button>\n",
              "\n",
              "<style>\n",
              "  .colab-df-quickchart {\n",
              "      --bg-color: #E8F0FE;\n",
              "      --fill-color: #1967D2;\n",
              "      --hover-bg-color: #E2EBFA;\n",
              "      --hover-fill-color: #174EA6;\n",
              "      --disabled-fill-color: #AAA;\n",
              "      --disabled-bg-color: #DDD;\n",
              "  }\n",
              "\n",
              "  [theme=dark] .colab-df-quickchart {\n",
              "      --bg-color: #3B4455;\n",
              "      --fill-color: #D2E3FC;\n",
              "      --hover-bg-color: #434B5C;\n",
              "      --hover-fill-color: #FFFFFF;\n",
              "      --disabled-bg-color: #3B4455;\n",
              "      --disabled-fill-color: #666;\n",
              "  }\n",
              "\n",
              "  .colab-df-quickchart {\n",
              "    background-color: var(--bg-color);\n",
              "    border: none;\n",
              "    border-radius: 50%;\n",
              "    cursor: pointer;\n",
              "    display: none;\n",
              "    fill: var(--fill-color);\n",
              "    height: 32px;\n",
              "    padding: 0;\n",
              "    width: 32px;\n",
              "  }\n",
              "\n",
              "  .colab-df-quickchart:hover {\n",
              "    background-color: var(--hover-bg-color);\n",
              "    box-shadow: 0 1px 2px rgba(60, 64, 67, 0.3), 0 1px 3px 1px rgba(60, 64, 67, 0.15);\n",
              "    fill: var(--button-hover-fill-color);\n",
              "  }\n",
              "\n",
              "  .colab-df-quickchart-complete:disabled,\n",
              "  .colab-df-quickchart-complete:disabled:hover {\n",
              "    background-color: var(--disabled-bg-color);\n",
              "    fill: var(--disabled-fill-color);\n",
              "    box-shadow: none;\n",
              "  }\n",
              "\n",
              "  .colab-df-spinner {\n",
              "    border: 2px solid var(--fill-color);\n",
              "    border-color: transparent;\n",
              "    border-bottom-color: var(--fill-color);\n",
              "    animation:\n",
              "      spin 1s steps(1) infinite;\n",
              "  }\n",
              "\n",
              "  @keyframes spin {\n",
              "    0% {\n",
              "      border-color: transparent;\n",
              "      border-bottom-color: var(--fill-color);\n",
              "      border-left-color: var(--fill-color);\n",
              "    }\n",
              "    20% {\n",
              "      border-color: transparent;\n",
              "      border-left-color: var(--fill-color);\n",
              "      border-top-color: var(--fill-color);\n",
              "    }\n",
              "    30% {\n",
              "      border-color: transparent;\n",
              "      border-left-color: var(--fill-color);\n",
              "      border-top-color: var(--fill-color);\n",
              "      border-right-color: var(--fill-color);\n",
              "    }\n",
              "    40% {\n",
              "      border-color: transparent;\n",
              "      border-right-color: var(--fill-color);\n",
              "      border-top-color: var(--fill-color);\n",
              "    }\n",
              "    60% {\n",
              "      border-color: transparent;\n",
              "      border-right-color: var(--fill-color);\n",
              "    }\n",
              "    80% {\n",
              "      border-color: transparent;\n",
              "      border-right-color: var(--fill-color);\n",
              "      border-bottom-color: var(--fill-color);\n",
              "    }\n",
              "    90% {\n",
              "      border-color: transparent;\n",
              "      border-bottom-color: var(--fill-color);\n",
              "    }\n",
              "  }\n",
              "</style>\n",
              "\n",
              "  <script>\n",
              "    async function quickchart(key) {\n",
              "      const quickchartButtonEl =\n",
              "        document.querySelector('#' + key + ' button');\n",
              "      quickchartButtonEl.disabled = true;  // To prevent multiple clicks.\n",
              "      quickchartButtonEl.classList.add('colab-df-spinner');\n",
              "      try {\n",
              "        const charts = await google.colab.kernel.invokeFunction(\n",
              "            'suggestCharts', [key], {});\n",
              "      } catch (error) {\n",
              "        console.error('Error during call to suggestCharts:', error);\n",
              "      }\n",
              "      quickchartButtonEl.classList.remove('colab-df-spinner');\n",
              "      quickchartButtonEl.classList.add('colab-df-quickchart-complete');\n",
              "    }\n",
              "    (() => {\n",
              "      let quickchartButtonEl =\n",
              "        document.querySelector('#df-3525e95e-cc23-4c82-971b-74f4fbd3b306 button');\n",
              "      quickchartButtonEl.style.display =\n",
              "        google.colab.kernel.accessAllowed ? 'block' : 'none';\n",
              "    })();\n",
              "  </script>\n",
              "</div>\n",
              "\n",
              "    </div>\n",
              "  </div>\n"
            ],
            "application/vnd.google.colaboratory.intrinsic+json": {
              "type": "dataframe"
            }
          },
          "metadata": {},
          "execution_count": 95
        }
      ]
    },
    {
      "cell_type": "code",
      "source": [
        "y = df1['predicted']\n",
        "x = final_counts_tfidf"
      ],
      "metadata": {
        "id": "x066SJimIYYJ"
      },
      "id": "x066SJimIYYJ",
      "execution_count": 97,
      "outputs": []
    },
    {
      "cell_type": "code",
      "source": [
        "from sklearn.preprocessing import LabelEncoder\n",
        "label = LabelEncoder()\n",
        "y_label = label.fit_transform(y)"
      ],
      "metadata": {
        "id": "SfFubcsgKIHO"
      },
      "id": "SfFubcsgKIHO",
      "execution_count": 103,
      "outputs": []
    },
    {
      "cell_type": "code",
      "source": [
        "from sklearn.model_selection import train_test_split\n",
        "x_train, x_test, y_train, y_test = train_test_split(x, y_label, test_size = 0.2, random_state=45, stratify=y)"
      ],
      "metadata": {
        "id": "wpVL3HPDJWLG"
      },
      "id": "wpVL3HPDJWLG",
      "execution_count": 106,
      "outputs": []
    },
    {
      "cell_type": "code",
      "source": [
        "from xgboost import XGBClassifier\n",
        "\n",
        "xgboost = XGBClassifier()\n",
        "xgboost.fit(x_train, y_train)"
      ],
      "metadata": {
        "colab": {
          "base_uri": "https://localhost:8080/",
          "height": 248
        },
        "id": "IdwSSwomJcKc",
        "outputId": "fcaa2e3b-4c9a-4d24-b4ef-3b721f276535"
      },
      "id": "IdwSSwomJcKc",
      "execution_count": 107,
      "outputs": [
        {
          "output_type": "execute_result",
          "data": {
            "text/plain": [
              "XGBClassifier(base_score=None, booster=None, callbacks=None,\n",
              "              colsample_bylevel=None, colsample_bynode=None,\n",
              "              colsample_bytree=None, device=None, early_stopping_rounds=None,\n",
              "              enable_categorical=False, eval_metric=None, feature_types=None,\n",
              "              gamma=None, grow_policy=None, importance_type=None,\n",
              "              interaction_constraints=None, learning_rate=None, max_bin=None,\n",
              "              max_cat_threshold=None, max_cat_to_onehot=None,\n",
              "              max_delta_step=None, max_depth=None, max_leaves=None,\n",
              "              min_child_weight=None, missing=nan, monotone_constraints=None,\n",
              "              multi_strategy=None, n_estimators=None, n_jobs=None,\n",
              "              num_parallel_tree=None, objective='multi:softprob', ...)"
            ],
            "text/html": [
              "<style>#sk-container-id-2 {color: black;background-color: white;}#sk-container-id-2 pre{padding: 0;}#sk-container-id-2 div.sk-toggleable {background-color: white;}#sk-container-id-2 label.sk-toggleable__label {cursor: pointer;display: block;width: 100%;margin-bottom: 0;padding: 0.3em;box-sizing: border-box;text-align: center;}#sk-container-id-2 label.sk-toggleable__label-arrow:before {content: \"▸\";float: left;margin-right: 0.25em;color: #696969;}#sk-container-id-2 label.sk-toggleable__label-arrow:hover:before {color: black;}#sk-container-id-2 div.sk-estimator:hover label.sk-toggleable__label-arrow:before {color: black;}#sk-container-id-2 div.sk-toggleable__content {max-height: 0;max-width: 0;overflow: hidden;text-align: left;background-color: #f0f8ff;}#sk-container-id-2 div.sk-toggleable__content pre {margin: 0.2em;color: black;border-radius: 0.25em;background-color: #f0f8ff;}#sk-container-id-2 input.sk-toggleable__control:checked~div.sk-toggleable__content {max-height: 200px;max-width: 100%;overflow: auto;}#sk-container-id-2 input.sk-toggleable__control:checked~label.sk-toggleable__label-arrow:before {content: \"▾\";}#sk-container-id-2 div.sk-estimator input.sk-toggleable__control:checked~label.sk-toggleable__label {background-color: #d4ebff;}#sk-container-id-2 div.sk-label input.sk-toggleable__control:checked~label.sk-toggleable__label {background-color: #d4ebff;}#sk-container-id-2 input.sk-hidden--visually {border: 0;clip: rect(1px 1px 1px 1px);clip: rect(1px, 1px, 1px, 1px);height: 1px;margin: -1px;overflow: hidden;padding: 0;position: absolute;width: 1px;}#sk-container-id-2 div.sk-estimator {font-family: monospace;background-color: #f0f8ff;border: 1px dotted black;border-radius: 0.25em;box-sizing: border-box;margin-bottom: 0.5em;}#sk-container-id-2 div.sk-estimator:hover {background-color: #d4ebff;}#sk-container-id-2 div.sk-parallel-item::after {content: \"\";width: 100%;border-bottom: 1px solid gray;flex-grow: 1;}#sk-container-id-2 div.sk-label:hover label.sk-toggleable__label {background-color: #d4ebff;}#sk-container-id-2 div.sk-serial::before {content: \"\";position: absolute;border-left: 1px solid gray;box-sizing: border-box;top: 0;bottom: 0;left: 50%;z-index: 0;}#sk-container-id-2 div.sk-serial {display: flex;flex-direction: column;align-items: center;background-color: white;padding-right: 0.2em;padding-left: 0.2em;position: relative;}#sk-container-id-2 div.sk-item {position: relative;z-index: 1;}#sk-container-id-2 div.sk-parallel {display: flex;align-items: stretch;justify-content: center;background-color: white;position: relative;}#sk-container-id-2 div.sk-item::before, #sk-container-id-2 div.sk-parallel-item::before {content: \"\";position: absolute;border-left: 1px solid gray;box-sizing: border-box;top: 0;bottom: 0;left: 50%;z-index: -1;}#sk-container-id-2 div.sk-parallel-item {display: flex;flex-direction: column;z-index: 1;position: relative;background-color: white;}#sk-container-id-2 div.sk-parallel-item:first-child::after {align-self: flex-end;width: 50%;}#sk-container-id-2 div.sk-parallel-item:last-child::after {align-self: flex-start;width: 50%;}#sk-container-id-2 div.sk-parallel-item:only-child::after {width: 0;}#sk-container-id-2 div.sk-dashed-wrapped {border: 1px dashed gray;margin: 0 0.4em 0.5em 0.4em;box-sizing: border-box;padding-bottom: 0.4em;background-color: white;}#sk-container-id-2 div.sk-label label {font-family: monospace;font-weight: bold;display: inline-block;line-height: 1.2em;}#sk-container-id-2 div.sk-label-container {text-align: center;}#sk-container-id-2 div.sk-container {/* jupyter's `normalize.less` sets `[hidden] { display: none; }` but bootstrap.min.css set `[hidden] { display: none !important; }` so we also need the `!important` here to be able to override the default hidden behavior on the sphinx rendered scikit-learn.org. See: https://github.com/scikit-learn/scikit-learn/issues/21755 */display: inline-block !important;position: relative;}#sk-container-id-2 div.sk-text-repr-fallback {display: none;}</style><div id=\"sk-container-id-2\" class=\"sk-top-container\"><div class=\"sk-text-repr-fallback\"><pre>XGBClassifier(base_score=None, booster=None, callbacks=None,\n",
              "              colsample_bylevel=None, colsample_bynode=None,\n",
              "              colsample_bytree=None, device=None, early_stopping_rounds=None,\n",
              "              enable_categorical=False, eval_metric=None, feature_types=None,\n",
              "              gamma=None, grow_policy=None, importance_type=None,\n",
              "              interaction_constraints=None, learning_rate=None, max_bin=None,\n",
              "              max_cat_threshold=None, max_cat_to_onehot=None,\n",
              "              max_delta_step=None, max_depth=None, max_leaves=None,\n",
              "              min_child_weight=None, missing=nan, monotone_constraints=None,\n",
              "              multi_strategy=None, n_estimators=None, n_jobs=None,\n",
              "              num_parallel_tree=None, objective=&#x27;multi:softprob&#x27;, ...)</pre><b>In a Jupyter environment, please rerun this cell to show the HTML representation or trust the notebook. <br />On GitHub, the HTML representation is unable to render, please try loading this page with nbviewer.org.</b></div><div class=\"sk-container\" hidden><div class=\"sk-item\"><div class=\"sk-estimator sk-toggleable\"><input class=\"sk-toggleable__control sk-hidden--visually\" id=\"sk-estimator-id-2\" type=\"checkbox\" checked><label for=\"sk-estimator-id-2\" class=\"sk-toggleable__label sk-toggleable__label-arrow\">XGBClassifier</label><div class=\"sk-toggleable__content\"><pre>XGBClassifier(base_score=None, booster=None, callbacks=None,\n",
              "              colsample_bylevel=None, colsample_bynode=None,\n",
              "              colsample_bytree=None, device=None, early_stopping_rounds=None,\n",
              "              enable_categorical=False, eval_metric=None, feature_types=None,\n",
              "              gamma=None, grow_policy=None, importance_type=None,\n",
              "              interaction_constraints=None, learning_rate=None, max_bin=None,\n",
              "              max_cat_threshold=None, max_cat_to_onehot=None,\n",
              "              max_delta_step=None, max_depth=None, max_leaves=None,\n",
              "              min_child_weight=None, missing=nan, monotone_constraints=None,\n",
              "              multi_strategy=None, n_estimators=None, n_jobs=None,\n",
              "              num_parallel_tree=None, objective=&#x27;multi:softprob&#x27;, ...)</pre></div></div></div></div></div>"
            ]
          },
          "metadata": {},
          "execution_count": 107
        }
      ]
    },
    {
      "cell_type": "code",
      "source": [
        "y_pred_train = xgboost.predict(x_train)\n",
        "y_pred_test = xgboost.predict(x_test)"
      ],
      "metadata": {
        "id": "g-8-oZ4aMNK8"
      },
      "id": "g-8-oZ4aMNK8",
      "execution_count": 108,
      "outputs": []
    },
    {
      "cell_type": "code",
      "source": [
        "from sklearn.metrics import classification_report, accuracy_score\n",
        "print(\"Training Accuracy: \", accuracy_score(y_train, y_pred_train))\n",
        "print(\"Test Accuracy: \", accuracy_score(y_test, y_pred_test))"
      ],
      "metadata": {
        "colab": {
          "base_uri": "https://localhost:8080/"
        },
        "id": "XH5-m4fKMaZm",
        "outputId": "bbb1b4ee-687b-4edf-a959-3d1ac0da5527"
      },
      "id": "XH5-m4fKMaZm",
      "execution_count": 109,
      "outputs": [
        {
          "output_type": "stream",
          "name": "stdout",
          "text": [
            "Training Accuracy:  0.9789461020211742\n",
            "Test Accuracy:  0.721019721019721\n"
          ]
        }
      ]
    },
    {
      "cell_type": "code",
      "source": [],
      "metadata": {
        "id": "OLolgKnoJuTi"
      },
      "id": "OLolgKnoJuTi",
      "execution_count": null,
      "outputs": []
    }
  ],
  "metadata": {
    "kernelspec": {
      "display_name": "Python 3 (ipykernel)",
      "language": "python",
      "name": "python3"
    },
    "language_info": {
      "codemirror_mode": {
        "name": "ipython",
        "version": 3
      },
      "file_extension": ".py",
      "mimetype": "text/x-python",
      "name": "python",
      "nbconvert_exporter": "python",
      "pygments_lexer": "ipython3",
      "version": "3.11.5"
    },
    "colab": {
      "provenance": [],
      "include_colab_link": true
    }
  },
  "nbformat": 4,
  "nbformat_minor": 5
}